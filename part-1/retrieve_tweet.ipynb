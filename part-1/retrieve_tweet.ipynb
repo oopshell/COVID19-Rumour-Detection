{
 "cells": [
  {
   "cell_type": "code",
   "execution_count": 8,
   "metadata": {},
   "outputs": [],
   "source": [
    "import tweepy\n",
    "\n",
    "consumer_key = \"\"\n",
    "consumer_secret = \"\"\n",
    "access_token = \"\"\n",
    "access_token_secret = \"\"\n",
    "\n",
    "auth = tweepy.OAuth1UserHandler(\n",
    "   consumer_key, consumer_secret, access_token, access_token_secret\n",
    ")\n",
    "\n",
    "api = tweepy.API(auth,wait_on_rate_limit=True)\n"
   ]
  },
  {
   "cell_type": "markdown",
   "metadata": {},
   "source": [
    "# Request for train and dev data"
   ]
  },
  {
   "cell_type": "code",
   "execution_count": null,
   "metadata": {},
   "outputs": [],
   "source": [
    "import json\n",
    "# file_object = open('./project-data/train.data.txt','rU')\n",
    "file_object = open('./project-data/dev.data.txt','rU')\n",
    "\n",
    "valid_ids = []\n",
    "forbidden_ids = []\n",
    "not_found_ids = []\n",
    "too_many_request_ids = []\n",
    "\n",
    "try: \n",
    "    for line in file_object:\n",
    "        tweet_ids = line.strip('\\n').split(',')\n",
    "        for tweet_id in tweet_ids:\n",
    "            try:\n",
    "                json_data = api.get_status(id=tweet_id)._json\n",
    "                with open('./dev-data/' + tweet_id + '.json', 'w') as f:\n",
    "                    json.dump(json_data, f)\n",
    "                valid_ids.append(tweet_id)\n",
    "            except tweepy.errors.NotFound:\n",
    "                not_found_ids.append(tweet_id)\n",
    "            except tweepy.errors.TooManyRequests:\n",
    "                too_many_request_ids.append(tweet_id)\n",
    "            except tweepy.errors.Forbidden:\n",
    "                forbidden_ids.append(tweet_id)\n",
    "finally:\n",
    "     file_object.close()"
   ]
  },
  {
   "cell_type": "code",
   "execution_count": null,
   "metadata": {},
   "outputs": [],
   "source": [
    "import os\n",
    "filePath = './project-data/total_train_data'\n",
    "filePath = './project-data/total_dev_data'\n",
    "file_list = os.listdir(filePath)\n",
    "file_list = list(map(lambda x:x.strip('.json'), file_list))"
   ]
  },
  {
   "cell_type": "markdown",
   "metadata": {},
   "source": [
    "# Request for test data"
   ]
  },
  {
   "cell_type": "code",
   "execution_count": 13,
   "metadata": {},
   "outputs": [],
   "source": [
    "import os\n",
    "filePath = './project-data/train-data'\n",
    "file_list = os.listdir(filePath)\n",
    "file_list = list(map(lambda x:x.strip('.json'), file_list))\n",
    "\n",
    "tweet_list = []\n",
    "\n",
    "with open('./project-data/train.data.txt','r') as fp:\n",
    "    lines = fp.readlines()\n",
    "    for line in lines[15975:]:\n",
    "        tweet_ids = line.strip('\\n').split(',')\n",
    "        if tweet_ids[0] in file_list:\n",
    "            tweet_list.append(tweet_ids[0])\n",
    "        else:\n",
    "            tweet_list.append(0)\n"
   ]
  },
  {
   "cell_type": "code",
   "execution_count": null,
   "metadata": {},
   "outputs": [],
   "source": [
    "import json\n",
    "\n",
    "covid_valid_ids = []\n",
    "\n",
    "with open('./project-data/covid.data.txt','r') as fp:\n",
    "    lines = fp.readlines()\n",
    "    for line in lines[16308:]:\n",
    "        tweet_ids = line.strip('\\n').split(',')\n",
    "        for tweet_id in tweet_ids:\n",
    "            try:\n",
    "                json_data = api.get_status(id=tweet_id)._json\n",
    "                with open('./covid-data/' + tweet_id + '.json', 'w') as f:\n",
    "                    json.dump(json_data, f)\n",
    "                covid_valid_ids.append(tweet_id)\n",
    "            except tweepy.errors.NotFound:\n",
    "                pass\n",
    "            except tweepy.errors.TooManyRequests:\n",
    "                pass\n",
    "            except tweepy.errors.Forbidden:\n",
    "                pass"
   ]
  },
  {
   "cell_type": "code",
   "execution_count": null,
   "metadata": {},
   "outputs": [],
   "source": [
    "import os\n",
    "filePath = './project-data/total_test_data'\n",
    "file_list = os.listdir(filePath)\n",
    "file_list = list(map(lambda x:x.strip('.json'), file_list))"
   ]
  }
 ],
 "metadata": {
  "interpreter": {
   "hash": "bcc88a5c2b6accdcaf39c87a931cb715cc1ab684beb32819a99a5a377f971b8d"
  },
  "kernelspec": {
   "display_name": "Python 3.8.1 64-bit",
   "language": "python",
   "name": "python3"
  },
  "language_info": {
   "codemirror_mode": {
    "name": "ipython",
    "version": 3
   },
   "file_extension": ".py",
   "mimetype": "text/x-python",
   "name": "python",
   "nbconvert_exporter": "python",
   "pygments_lexer": "ipython3",
   "version": "3.8.1"
  },
  "orig_nbformat": 4
 },
 "nbformat": 4,
 "nbformat_minor": 2
}
